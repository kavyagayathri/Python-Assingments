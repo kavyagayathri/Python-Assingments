{
 "cells": [
  {
   "cell_type": "code",
   "execution_count": 2,
   "id": "96cc1cfa",
   "metadata": {},
   "outputs": [
    {
     "name": "stdout",
     "output_type": "stream",
     "text": [
      "please enter the number7\n",
      "the number is odd\n"
     ]
    }
   ],
   "source": [
    "a=int(input(\"please enter the number\"))#1\n",
    "if a%2==0:\n",
    "    print(\"the number is even\")\n",
    "else:\n",
    "    print(\"the number is odd\")"
   ]
  },
  {
   "cell_type": "code",
   "execution_count": 4,
   "id": "9802ce30",
   "metadata": {},
   "outputs": [
    {
     "name": "stdout",
     "output_type": "stream",
     "text": [
      "please enter the number80\n",
      "please enter the second number100\n",
      "100 is the largest\n"
     ]
    }
   ],
   "source": [
    "a=int(input(\"please enter the number\"))#2\n",
    "b=int(input(\"please enter the second number\"))\n",
    "if a>b:\n",
    "    print(a,\"is the largest\")\n",
    "elif a<b:\n",
    "    print(b,\"is the largest\")"
   ]
  },
  {
   "cell_type": "code",
   "execution_count": 9,
   "id": "bd1ea14c",
   "metadata": {},
   "outputs": [
    {
     "name": "stdout",
     "output_type": "stream",
     "text": [
      "enter the chare\n",
      " the charac is vowel\n"
     ]
    }
   ],
   "source": [
    "a=input(\"enter the char\")#3\n",
    "if a in ['a','e','i','o','u']:\n",
    "    print(\" the charac is vowel\")\n",
    "else :\n",
    "    print(\"the charac is const \")"
   ]
  },
  {
   "cell_type": "code",
   "execution_count": 12,
   "id": "4e7f8336",
   "metadata": {},
   "outputs": [
    {
     "name": "stdout",
     "output_type": "stream",
     "text": [
      "enter the year2025\n",
      "not a leap year\n"
     ]
    }
   ],
   "source": [
    "a=int(input(\"enter the year\"))\n",
    "if a%4==0:\n",
    "    print(\"the year is a leap year\")\n",
    "else:\n",
    "    print(\"not a leap year\")\n"
   ]
  },
  {
   "cell_type": "code",
   "execution_count": 15,
   "id": "3305488e",
   "metadata": {},
   "outputs": [
    {
     "name": "stdout",
     "output_type": "stream",
     "text": [
      "enter the gradeF\n",
      "fail\n"
     ]
    }
   ],
   "source": [
    "a=input(\"enter the grade\")\n",
    "if a in ['A','B','C','D','E']:\n",
    "    print(\"pass\")\n",
    "elif a is 'F' :\n",
    "    print(\"fail\")"
   ]
  },
  {
   "cell_type": "code",
   "execution_count": null,
   "id": "f54987f9",
   "metadata": {},
   "outputs": [],
   "source": []
  }
 ],
 "metadata": {
  "kernelspec": {
   "display_name": "Python 3 (ipykernel)",
   "language": "python",
   "name": "python3"
  },
  "language_info": {
   "codemirror_mode": {
    "name": "ipython",
    "version": 3
   },
   "file_extension": ".py",
   "mimetype": "text/x-python",
   "name": "python",
   "nbconvert_exporter": "python",
   "pygments_lexer": "ipython3",
   "version": "3.7.9"
  }
 },
 "nbformat": 4,
 "nbformat_minor": 5
}
