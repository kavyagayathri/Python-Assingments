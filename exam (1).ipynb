{
 "cells": [
  {
   "cell_type": "code",
   "execution_count": 77,
   "id": "febb505c-5e4f-4886-af18-82e1b86777b6",
   "metadata": {},
   "outputs": [
    {
     "name": "stdin",
     "output_type": "stream",
     "text": [
      "Enter the number: 2\n"
     ]
    },
    {
     "data": {
      "text/plain": [
       "True"
      ]
     },
     "execution_count": 77,
     "metadata": {},
     "output_type": "execute_result"
    }
   ],
   "source": [
    "#Write a Python function to check if a number is prime.\n",
    "def is_prime(n):\n",
    "    if n < 2:\n",
    "        return False\n",
    "    for i in range(2, int(n ** 0.5) + 1):\n",
    "        if n % i == 0:\n",
    "            return False\n",
    "    return True\n",
    "n=int(input(\"Enter the number:\"))\n",
    "is_prime(n)"
   ]
  },
  {
   "cell_type": "code",
   "execution_count": 3,
   "id": "ad14d8d2-b992-466b-be3b-6ee4d59ec383",
   "metadata": {},
   "outputs": [
    {
     "data": {
      "text/plain": [
       "15"
      ]
     },
     "execution_count": 3,
     "metadata": {},
     "output_type": "execute_result"
    }
   ],
   "source": [
    "#Write a Python function that returns the sum of elements in a list.\n",
    "def tes(l):\n",
    "    return sum(l)\n",
    "tes([1,2,3,4,5])"
   ]
  },
  {
   "cell_type": "code",
   "execution_count": 5,
   "id": "4613ec02-99ab-48b0-adf7-a78d658c3bfe",
   "metadata": {},
   "outputs": [
    {
     "name": "stdout",
     "output_type": "stream",
     "text": [
      "c is greater\n"
     ]
    }
   ],
   "source": [
    "#Write a Python function to find the maximum of three numbers.\n",
    "def test(a,b,c):\n",
    "    if a>b and a>c:\n",
    "        print(\"a is greater\")\n",
    "    elif b>a and b>c:\n",
    "        print(\"b is greater\")\n",
    "    else:\n",
    "        print(\"c is greater\")\n",
    "test(1,2,3)"
   ]
  },
  {
   "cell_type": "code",
   "execution_count": 7,
   "id": "ed03362b-c45e-4c7f-b15a-1e94db058f3c",
   "metadata": {},
   "outputs": [
    {
     "name": "stdout",
     "output_type": "stream",
     "text": [
      "Python is awesome.\n",
      "I love Data Science.\n",
      "I wanna be a Data Scientist.\n",
      "Python is my first programming language.\n",
      "Happy Pongal.\n"
     ]
    }
   ],
   "source": [
    "#Write a Python program to read a text file and display its contents.\n",
    "with open('python.txt','r') as f:\n",
    "    lines=f.read()\n",
    "print(lines)"
   ]
  },
  {
   "cell_type": "code",
   "execution_count": 9,
   "id": "ae4fa57d-d898-4530-a8ce-320f8f6d4e69",
   "metadata": {},
   "outputs": [
    {
     "name": "stdout",
     "output_type": "stream",
     "text": [
      "The file 'python.txt' contains 5 lines.\n"
     ]
    }
   ],
   "source": [
    "#Write a Python program to count the number of lines in a file.\n",
    "filename = \"python.txt\"  \n",
    "with open(filename, 'r') as f:\n",
    "    line_count = sum(1 for line in f)\n",
    "print(f\"The file '{filename}' contains {line_count} lines.\")"
   ]
  },
  {
   "cell_type": "code",
   "execution_count": 15,
   "id": "b371d281-8b5e-41ee-8da3-5f1da438c0a0",
   "metadata": {},
   "outputs": [],
   "source": [
    "#write a Python program to write a list of numbers to a file.\n",
    "numbers = [10, 20, 30, 40, 50]\n",
    "filename = \"numbers.txt\"\n",
    "with open(filename, 'w') as file:\n",
    "    for number in numbers:\n",
    "        file.write(f\"{number}\\n\") "
   ]
  },
  {
   "cell_type": "code",
   "execution_count": 19,
   "id": "dd96415f-e18c-4a91-99c7-5d3e74ab2f9c",
   "metadata": {},
   "outputs": [
    {
     "name": "stdout",
     "output_type": "stream",
     "text": [
      "The word 'Python' occurs 0 times in the file 'python.txt'.\n"
     ]
    }
   ],
   "source": [
    "#Write a Python program to read a file and count the occurrence of a specific word.\n",
    "filename = \"python.txt\"\n",
    "word_to_count = \"Python\"\n",
    "word_count = 0\n",
    "with open(filename, 'r') as file:\n",
    "    for line in file:\n",
    "        word_count += line.lower().split().count(word_to_count.lower())\n",
    "print(f\"The word '{word_to_count}' occurs {word_count} times in the file '{filename}'.\")"
   ]
  },
  {
   "cell_type": "code",
   "execution_count": 21,
   "id": "1179db72-a98d-4732-90da-64edd0cb1507",
   "metadata": {},
   "outputs": [],
   "source": [
    "#Write a Python program to append text to an existing file.\n",
    "with open('python.txt','a') as f:\n",
    "    f.write(\"\\nPython is best\")"
   ]
  },
  {
   "cell_type": "code",
   "execution_count": 7,
   "id": "ad1aed16-5346-4f87-a3d4-8be9b5c4a7cd",
   "metadata": {},
   "outputs": [
    {
     "data": {
      "text/plain": [
       "15"
      ]
     },
     "execution_count": 7,
     "metadata": {},
     "output_type": "execute_result"
    }
   ],
   "source": [
    "#Write a Python program to calculate the sum of elements in a list using list comprehension.\n",
    "l=[1,2,3,4,5]\n",
    "s=sum([i for i in a])\n",
    "s"
   ]
  },
  {
   "cell_type": "code",
   "execution_count": 15,
   "id": "842cff26-3001-4f3c-8170-5407193df5fd",
   "metadata": {},
   "outputs": [
    {
     "data": {
      "text/plain": [
       "6"
      ]
     },
     "execution_count": 15,
     "metadata": {},
     "output_type": "execute_result"
    }
   ],
   "source": [
    "#Write a Python program to count the number of words in a string.\n",
    "s = \"Python is an amazing programming language.\"\n",
    "w = s.split()\n",
    "count = len(w)\n",
    "count"
   ]
  },
  {
   "cell_type": "code",
   "execution_count": 19,
   "id": "c74d0392-7e25-4d18-9bb0-711e577e796a",
   "metadata": {},
   "outputs": [
    {
     "name": "stdin",
     "output_type": "stream",
     "text": [
      "Enter a number:  5\n"
     ]
    },
    {
     "name": "stdout",
     "output_type": "stream",
     "text": [
      "The square of 5 is: 25\n"
     ]
    }
   ],
   "source": [
    "#Write a Python program using a lambda function to find the square of a number.\n",
    "square = lambda x: x ** 2\n",
    "number = int(input(\"Enter a number: \"))\n",
    "result = square(number)\n",
    "print(f\"The square of {number} is: {result}\")"
   ]
  },
  {
   "cell_type": "code",
   "execution_count": 23,
   "id": "025557ba-a589-4b6b-89e9-74e29419362c",
   "metadata": {},
   "outputs": [
    {
     "name": "stdin",
     "output_type": "stream",
     "text": [
      "enter first number: 6\n",
      "enter second number: 0\n"
     ]
    },
    {
     "name": "stdout",
     "output_type": "stream",
     "text": [
      "b should not be zero\n"
     ]
    }
   ],
   "source": [
    "#Write a Python program to handle division by zero using try-except.\n",
    "a=int(input(\"enter first number:\"))\n",
    "b=int(input(\"enter second number:\"))\n",
    "try:\n",
    "    c=a/b\n",
    "    print(c)\n",
    "except ZeroDivisionError:\n",
    "    print(\"b should not be zero\")"
   ]
  },
  {
   "cell_type": "code",
   "execution_count": 27,
   "id": "71b9e227-8466-4c6e-89a6-55d5250779e8",
   "metadata": {},
   "outputs": [
    {
     "name": "stdin",
     "output_type": "stream",
     "text": [
      "Enter a key to check:  age\n"
     ]
    },
    {
     "name": "stdout",
     "output_type": "stream",
     "text": [
      "The key 'age' exists in the dictionary.\n"
     ]
    }
   ],
   "source": [
    "#Write a Python program to check if a key exists in a dictionary.\n",
    "s= {\"name\": \"Alice\", \"age\": 25, \"city\": \"New York\"}\n",
    "c = input(\"Enter a key to check: \")\n",
    "if c in s:\n",
    "    print(f\"The key '{c}' exists in the dictionary.\")\n",
    "else:\n",
    "    print(f\"The key '{c}' does not exist in the dictionary.\")"
   ]
  },
  {
   "cell_type": "code",
   "execution_count": 29,
   "id": "f2416ec5-654e-4836-817c-e488f5718774",
   "metadata": {},
   "outputs": [
    {
     "name": "stdout",
     "output_type": "stream",
     "text": [
      "Original list with duplicates: [1, 2, 2, 3, 4, 4, 5, 6, 6, 7]\n",
      "List after removing duplicates: [1, 2, 3, 4, 5, 6, 7]\n"
     ]
    }
   ],
   "source": [
    "#Write a Python program to remove duplicates from a list using a set.\n",
    "l = [1, 2, 2, 3, 4, 4, 5, 6, 6, 7]\n",
    "e = list(set(l))\n",
    "print(\"Original list with duplicates:\", l)\n",
    "print(\"List after removing duplicates:\", e)"
   ]
  },
  {
   "cell_type": "code",
   "execution_count": 35,
   "id": "31b323c8-45ce-4291-8d98-f8cf1330b449",
   "metadata": {},
   "outputs": [
    {
     "data": {
      "text/plain": [
       "'ecilA'"
      ]
     },
     "execution_count": 35,
     "metadata": {},
     "output_type": "execute_result"
    }
   ],
   "source": [
    "#Write a function that takes a string and returns the reversed string.\n",
    "def tes(a):\n",
    "    return a[::-1]\n",
    "a=\"Alice\"\n",
    "tes(a)"
   ]
  },
  {
   "cell_type": "code",
   "execution_count": 39,
   "id": "c9000f1a-ed9e-42b9-8cf5-e5b73836843d",
   "metadata": {},
   "outputs": [
    {
     "data": {
      "text/plain": [
       "11"
      ]
     },
     "execution_count": 39,
     "metadata": {},
     "output_type": "execute_result"
    }
   ],
   "source": [
    "#Write a Python function that takes two numbers as arguments and returns their sum.\n",
    "def add(a,b):\n",
    "    return a+b\n",
    "add(5,6)"
   ]
  },
  {
   "cell_type": "code",
   "execution_count": 41,
   "id": "92a0dab2-8ae4-48b3-b8fb-40cb940e95cd",
   "metadata": {},
   "outputs": [
    {
     "name": "stdout",
     "output_type": "stream",
     "text": [
      "odd\n"
     ]
    }
   ],
   "source": [
    "#Write a function to check whether a given number is even or odd.\n",
    "def e_o(a):\n",
    "    if a%2==0:\n",
    "        print(\"even\")\n",
    "    else:\n",
    "        print(\"odd\")\n",
    "e_o(5)"
   ]
  },
  {
   "cell_type": "code",
   "execution_count": 43,
   "id": "b3b4484c-719b-4af2-9f03-933469346131",
   "metadata": {},
   "outputs": [
    {
     "data": {
      "text/plain": [
       "100"
      ]
     },
     "execution_count": 43,
     "metadata": {},
     "output_type": "execute_result"
    }
   ],
   "source": [
    "#Write a function that takes a number as input and returns the square of that number.\n",
    "def tes(a):\n",
    "    return a**2\n",
    "tes(10)"
   ]
  },
  {
   "cell_type": "code",
   "execution_count": 45,
   "id": "767229ef-82b0-4f4a-bf69-2d32e9a8164f",
   "metadata": {},
   "outputs": [
    {
     "data": {
      "text/plain": [
       "[2, 4]"
      ]
     },
     "execution_count": 45,
     "metadata": {},
     "output_type": "execute_result"
    }
   ],
   "source": [
    "#Write a function that takes a list of numbers and returns a new list containing only the even numbers.\n",
    "def tes(l):\n",
    "    s=[]\n",
    "    for i in l:\n",
    "        if i%2==0:\n",
    "            s.append(i)\n",
    "    return s\n",
    "tes([1,2,3,4,5])"
   ]
  },
  {
   "cell_type": "code",
   "execution_count": 49,
   "id": "a6157160-2e32-425d-9c88-177797a54851",
   "metadata": {},
   "outputs": [
    {
     "data": {
      "text/plain": [
       "'Himiss'"
      ]
     },
     "execution_count": 49,
     "metadata": {},
     "output_type": "execute_result"
    }
   ],
   "source": [
    "#Write a function that takes two strings and concatenates them.\n",
    "s=\"Hi\"\n",
    "b=\"miss\"\n",
    "a=add(s,b)\n",
    "a"
   ]
  },
  {
   "cell_type": "code",
   "execution_count": 51,
   "id": "fa2c60cd-a69b-4994-a769-a2b1f7d9dc4d",
   "metadata": {},
   "outputs": [
    {
     "name": "stdout",
     "output_type": "stream",
     "text": [
      "Sum: 15\n",
      "Difference: 5\n",
      "Product: 50\n",
      "Quotient: 2.0\n"
     ]
    }
   ],
   "source": [
    "#Write a function that returns multiple values (sum, difference, product, and quotient of two numbers).\n",
    "def calculate_operations(num1, num2):\n",
    "    s= num1 + num2\n",
    "    diff= num1 - num2\n",
    "    prod = num1 * num2\n",
    "    if num2 != 0:\n",
    "        quot = num1 / num2\n",
    "    else:\n",
    "        quot = \"Undefined (division by zero)\"\n",
    "    return s, diff, prod, quot\n",
    "num1 = 10\n",
    "num2 = 5\n",
    "s, diff, prod, quot = calculate_operations(num1, num2)\n",
    "print(f\"Sum: {s}\")\n",
    "print(f\"Difference: {diff}\")\n",
    "print(f\"Product: {prod}\")\n",
    "print(f\"Quotient: {quot}\")"
   ]
  },
  {
   "cell_type": "code",
   "execution_count": 53,
   "id": "e850c61d-0f8c-4110-b37c-39da5b5acb69",
   "metadata": {},
   "outputs": [
    {
     "data": {
      "text/plain": [
       "('alice', 'ALICE')"
      ]
     },
     "execution_count": 53,
     "metadata": {},
     "output_type": "execute_result"
    }
   ],
   "source": [
    "#Write a function that takes a string and returns both its uppercase and lowercase versions.\n",
    "def tes(a):\n",
    "    return a.lower(),a.upper()\n",
    "s=\"Alice\"\n",
    "tes(s)"
   ]
  },
  {
   "cell_type": "code",
   "execution_count": 55,
   "id": "34b819e1-aaf5-4038-bce5-e2702aaaa961",
   "metadata": {},
   "outputs": [
    {
     "data": {
      "text/plain": [
       "[1, 2, 3, 4, 5, 6, 7]"
      ]
     },
     "execution_count": 55,
     "metadata": {},
     "output_type": "execute_result"
    }
   ],
   "source": [
    "#Write a function that takes a list and returns a new list with unique elements only.\n",
    "def tes(l):\n",
    "    return list(set(l))\n",
    "tes([1,2,2,3,4,5,7,4,4,6])"
   ]
  },
  {
   "cell_type": "code",
   "execution_count": 57,
   "id": "532b6541-f0d8-41df-a512-73d337062f70",
   "metadata": {},
   "outputs": [
    {
     "name": "stdout",
     "output_type": "stream",
     "text": [
      "Key with the highest value: b\n"
     ]
    }
   ],
   "source": [
    "#Write a function that takes a dictionary and returns the key with the highest value.\n",
    "def value(d):\n",
    "    max_key = max(d, key=lambda k: d[k])\n",
    "    return max_key\n",
    "my_dict = {\"a\": 10, \"b\": 25, \"c\": 15}\n",
    "result = value(my_dict)\n",
    "print(\"Key with the highest value:\", result)"
   ]
  },
  {
   "cell_type": "code",
   "execution_count": 61,
   "id": "89da996e-654b-461d-97b5-72fa3bb01385",
   "metadata": {},
   "outputs": [
    {
     "name": "stdout",
     "output_type": "stream",
     "text": [
      "Length of the longest word: 10\n"
     ]
    }
   ],
   "source": [
    "#Write a function that returns the length of the longest word in a list of words..\n",
    "def length_of_longest_word(words):\n",
    "    longest_length = max(words, key=lambda word: len(word))\n",
    "    return len(longest_length)\n",
    "word_list = [\"apple\", \"banana\", \"kiwi\", \"strawberry\"]\n",
    "result = length_of_longest_word(word_list)\n",
    "print(\"Length of the longest word:\", result)"
   ]
  },
  {
   "cell_type": "code",
   "execution_count": 65,
   "id": "cf359f3d-d0e1-495f-9af9-3a7cec7068df",
   "metadata": {},
   "outputs": [
    {
     "name": "stdout",
     "output_type": "stream",
     "text": [
      "Original string: Hello, World!\n",
      "Reversed string: !dlroW ,olleH\n"
     ]
    }
   ],
   "source": [
    "#Write a Python program to reverse a string using a for loop.\n",
    "def reverse_string(input_string):\n",
    "    rev = \"\"\n",
    "    for char in input_string:\n",
    "        rev = char + rev \n",
    "    return rev\n",
    "input_string = \"Hello, World!\"\n",
    "result = reverse_string(input_string)\n",
    "print(\"Original string:\", input_string)\n",
    "print(\"Reversed string:\", result)"
   ]
  },
  {
   "cell_type": "code",
   "execution_count": 69,
   "id": "74ce2416-73ca-4890-a8a5-956e4324580f",
   "metadata": {},
   "outputs": [
    {
     "name": "stdout",
     "output_type": "stream",
     "text": [
      "Number of vowels in the string: 3\n"
     ]
    }
   ],
   "source": [
    "#Write a Python program to count the number of vowels in a given string using a for loop.\n",
    "def count_vowels(input_string):\n",
    "    s=input_string.lower()\n",
    "    count = 0\n",
    "    for char in s:\n",
    "        if char in 'aeiou':\n",
    "            count += 1  \n",
    "    return count\n",
    "input_string = \"Hello, World!\"\n",
    "result = count_vowels(input_string)\n",
    "print(\"Number of vowels in the string:\", result)"
   ]
  },
  {
   "cell_type": "code",
   "execution_count": 71,
   "id": "f5a51d53-1052-417f-b276-bb4745c7ae34",
   "metadata": {},
   "outputs": [
    {
     "name": "stdout",
     "output_type": "stream",
     "text": [
      "1\n",
      "3\n",
      "5\n",
      "7\n",
      "9\n",
      "11\n",
      "13\n",
      "15\n",
      "17\n",
      "19\n",
      "21\n",
      "23\n",
      "25\n",
      "27\n",
      "29\n",
      "31\n",
      "33\n",
      "35\n",
      "37\n",
      "39\n",
      "41\n",
      "43\n",
      "45\n",
      "47\n",
      "49\n"
     ]
    }
   ],
   "source": [
    "#Write a Python program to print all odd numbers from 1 to 50 using a for loop and an if statement.\n",
    "for i in range(1,51):\n",
    "    if i%2!=0:\n",
    "        print(i)"
   ]
  },
  {
   "cell_type": "code",
   "execution_count": 73,
   "id": "8151a244-9b36-4d4c-b4a0-3ec8461137ba",
   "metadata": {},
   "outputs": [
    {
     "name": "stdout",
     "output_type": "stream",
     "text": [
      "56\n",
      "34\n",
      "23\n",
      "11\n"
     ]
    }
   ],
   "source": [
    "#Write a Python program to count how many numbers in a list are greater than 10.\n",
    "s=[1,56,34,23,11]\n",
    "for i in s:\n",
    "    if i>10:\n",
    "        print(i)"
   ]
  },
  {
   "cell_type": "code",
   "execution_count": 75,
   "id": "d0108f4d-4de0-4acd-8f74-f95358763600",
   "metadata": {},
   "outputs": [
    {
     "name": "stdout",
     "output_type": "stream",
     "text": [
      "15\n",
      "30\n",
      "45\n",
      "60\n",
      "75\n",
      "90\n"
     ]
    }
   ],
   "source": [
    "#Write a Python program to print all numbers divisible by both 3 and 5 between 1 and 100.\n",
    "for i in range(1,101):\n",
    "    if i%3==0 and i%5==0:\n",
    "        print(i)"
   ]
  }
 ],
 "metadata": {
  "kernelspec": {
   "display_name": "Python [conda env:base] *",
   "language": "python",
   "name": "conda-base-py"
  },
  "language_info": {
   "codemirror_mode": {
    "name": "ipython",
    "version": 3
   },
   "file_extension": ".py",
   "mimetype": "text/x-python",
   "name": "python",
   "nbconvert_exporter": "python",
   "pygments_lexer": "ipython3",
   "version": "3.12.7"
  }
 },
 "nbformat": 4,
 "nbformat_minor": 5
}
