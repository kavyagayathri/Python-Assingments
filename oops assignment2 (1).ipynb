{
 "cells": [
  {
   "cell_type": "code",
   "execution_count": 4,
   "id": "fee37c76",
   "metadata": {},
   "outputs": [
    {
     "data": {
      "text/plain": [
       "'red'"
      ]
     },
     "execution_count": 4,
     "metadata": {},
     "output_type": "execute_result"
    }
   ],
   "source": [
    "# simple program to demonstrste inheritance\n",
    "class mobile:\n",
    "    def __init__(self,color,brand,cost):\n",
    "        self.color=color\n",
    "        self.brand=brand\n",
    "        self.cost=cost\n",
    "mob1=mobile(\"black\",\"samsung\",23000)\n",
    "mob1.cost\n",
    "\n",
    "class new_mob(mobile):\n",
    "    pass\n",
    "mob2 = new_mob(\"red\",\"apple\",34000)\n",
    "mob2.color"
   ]
  },
  {
   "cell_type": "code",
   "execution_count": 7,
   "id": "d7f8e007",
   "metadata": {},
   "outputs": [
    {
     "data": {
      "text/plain": [
       "'audi'"
      ]
     },
     "execution_count": 7,
     "metadata": {},
     "output_type": "execute_result"
    }
   ],
   "source": [
    "# vehicle class inherited by car class\n",
    "class vehicle:\n",
    "    def __init__(self,color,windows,brand):\n",
    "        self.color = color\n",
    "        self.windows= windows\n",
    "        self.brand= brand\n",
    "veh1=vehicle(\"red\",4,\"maruthi\")\n",
    "veh1.brand\n",
    "class car(vehicle):\n",
    "    pass\n",
    "veh2=car(\"black\",3,\"audi\")\n",
    "veh2.brand"
   ]
  },
  {
   "cell_type": "code",
   "execution_count": 9,
   "id": "297d92b0",
   "metadata": {},
   "outputs": [
    {
     "data": {
      "text/plain": [
       "'mercedes'"
      ]
     },
     "execution_count": 9,
     "metadata": {},
     "output_type": "execute_result"
    }
   ],
   "source": [
    "# multiple inheritence\n",
    "class vehicle:\n",
    "    def __init__(self,color,windows,brand):\n",
    "        self.color = color\n",
    "        self.windows= windows\n",
    "        self.brand= brand\n",
    "veh1=vehicle(\"red\",4,\"maruthi\")\n",
    "veh1.brand\n",
    "class car(vehicle):\n",
    "    pass\n",
    "veh2=car(\"black\",3,\"audi\")\n",
    "veh2.brand\n",
    "class bus(vehicle):\n",
    "    pass\n",
    "veh3=bus(\"blue\",5,\"mercedes\")\n",
    "veh3.brand"
   ]
  },
  {
   "cell_type": "code",
   "execution_count": 4,
   "id": "ebfd2327",
   "metadata": {},
   "outputs": [
    {
     "data": {
      "text/plain": [
       "'maruthi'"
      ]
     },
     "execution_count": 4,
     "metadata": {},
     "output_type": "execute_result"
    }
   ],
   "source": [
    "class car():\n",
    "    def __init__(self,brand, model, year):\n",
    "        self.brand=brand\n",
    "        self.model=model\n",
    "        self.year=year\n",
    "obj1 = car(\"maruthi\",\"s23\",2023)\n",
    "obj1.brand\n",
    "        \n",
    "        "
   ]
  },
  {
   "cell_type": "code",
   "execution_count": 7,
   "id": "9a58f679",
   "metadata": {},
   "outputs": [
    {
     "data": {
      "text/plain": [
       "'the car is in good codition and bought in the year 2023'"
      ]
     },
     "execution_count": 7,
     "metadata": {},
     "output_type": "execute_result"
    }
   ],
   "source": [
    "class car():\n",
    "    def __init__(self,brand, model, year):\n",
    "        self.brand=brand\n",
    "        self.model=model\n",
    "        self.year=year\n",
    "    def car_info(self):\n",
    "        return \"the car is in good codition and bought in the year 2023\"\n",
    "obj1 = car(\"maruthi\",\"s23\",2023)\n",
    "obj2 = car(\"mercedes\",\"35c\",2025)\n",
    "obj1.car_info()\n",
    "obj2.car_info()\n",
    "        "
   ]
  },
  {
   "cell_type": "code",
   "execution_count": null,
   "id": "1fbc67af",
   "metadata": {},
   "outputs": [],
   "source": []
  },
  {
   "cell_type": "code",
   "execution_count": 24,
   "id": "ba8014f2",
   "metadata": {},
   "outputs": [
    {
     "data": {
      "text/plain": [
       "'The car is a Maruti S23, bought in the year 2023.'"
      ]
     },
     "execution_count": 24,
     "metadata": {},
     "output_type": "execute_result"
    }
   ],
   "source": [
    "class Car:\n",
    "    total_cars = 0 \n",
    "    def __init__(self, brand, model, year):\n",
    "        self.brand = brand\n",
    "        self.model = model\n",
    "        self.year = year\n",
    "        Car.total_cars += 1\n",
    "\n",
    "    def car_info(self):\n",
    "        return f\"The car is a {self.brand} {self.model}, bought in the year {self.year}.\"\n",
    "\n",
    "    def count_cars(cls): \n",
    "        return f\"The total number of cars is: {cls.total_cars}\"\n",
    "\n",
    "\n",
    "# Creating objects\n",
    "obj1 = Car(\"Maruti\", \"S23\", 2023)\n",
    "obj2 = Car(\"Mercedes\", \"35C\", 2025)\n",
    "obj1.car_info()\n",
    "\n",
    " print(Car.count_cars()) "
   ]
  },
  {
   "cell_type": "code",
   "execution_count": 31,
   "id": "3ffd9b7c",
   "metadata": {},
   "outputs": [
    {
     "name": "stdout",
     "output_type": "stream",
     "text": [
      "2023\n",
      "2025\n"
     ]
    }
   ],
   "source": [
    "class car():\n",
    "    def __init__(self,brand, model, year):\n",
    "        self.brand=brand\n",
    "        self.model=model\n",
    "        self.__year=year\n",
    "    def car_info(self):\n",
    "        return \"the car is in good codition and bought in the year 2023\"\n",
    "    def get_year(self):\n",
    "        return self.__year\n",
    "obj1 = car(\"maruthi\",\"s23\",2023)\n",
    "obj2 = car(\"mercedes\",\"35c\",2025)\n",
    "print(obj1.get_year())\n",
    "print(obj2.get_year()) "
   ]
  },
  {
   "cell_type": "code",
   "execution_count": 37,
   "id": "3306f22a",
   "metadata": {},
   "outputs": [
    {
     "name": "stdout",
     "output_type": "stream",
     "text": [
      "the car is mercedes35c and is bought in the year 2025 with a battery capacity of 30kw\n"
     ]
    }
   ],
   "source": [
    "class car():\n",
    "    def __init__(self,brand, model, year):\n",
    "        self.brand=brand\n",
    "        self.model=model\n",
    "        self.year=year\n",
    "        \n",
    "    def car_info(self):\n",
    "        return f\"the car is {self.brand}{self.model} and is bought in the year {self.year}\"\n",
    "        \n",
    "class Electriccar(car):\n",
    "    def __init__(self, brand, model, year, battery_cap):\n",
    "        super().__init__(brand, model, year)  \n",
    "        self.battery_cap = battery_cap \n",
    "    def car_info(self):\n",
    "        return f\"the car is {self.brand}{self.model} and is bought in the year {self.year} with a battery capacity of {self.battery_cap}\"\n",
    "        \n",
    "        \n",
    "    \n",
    "obj1 = car(\"maruthi\",\"s23\",2023)\n",
    "ev1 = Electriccar(\"mercedes\",\"35c\",2025,\"30kw\")   \n",
    "print(ev1.car_info())"
   ]
  },
  {
   "cell_type": "code",
   "execution_count": 40,
   "id": "4f0b60c4",
   "metadata": {},
   "outputs": [
    {
     "name": "stdout",
     "output_type": "stream",
     "text": [
      "the dog barks\n",
      "the cat meows\n"
     ]
    }
   ],
   "source": [
    "class dog:\n",
    "    def make_sound(self):\n",
    "        return \"the dog barks\"\n",
    "class cat:\n",
    "    def make_sound(self):\n",
    "        return \"the cat meows\"\n",
    "dog1 = dog()\n",
    "cat1 = cat()\n",
    "\n",
    "animals=[dog1,cat1]\n",
    "for animal in animals:\n",
    "    print(animal.make_sound())\n"
   ]
  },
  {
   "cell_type": "code",
   "execution_count": null,
   "id": "97a6d54c",
   "metadata": {},
   "outputs": [],
   "source": []
  },
  {
   "cell_type": "code",
   "execution_count": null,
   "id": "11a7c695",
   "metadata": {},
   "outputs": [],
   "source": []
  },
  {
   "cell_type": "code",
   "execution_count": null,
   "id": "e6e868bc",
   "metadata": {},
   "outputs": [],
   "source": []
  }
 ],
 "metadata": {
  "kernelspec": {
   "display_name": "Python 3 (ipykernel)",
   "language": "python",
   "name": "python3"
  },
  "language_info": {
   "codemirror_mode": {
    "name": "ipython",
    "version": 3
   },
   "file_extension": ".py",
   "mimetype": "text/x-python",
   "name": "python",
   "nbconvert_exporter": "python",
   "pygments_lexer": "ipython3",
   "version": "3.7.9"
  }
 },
 "nbformat": 4,
 "nbformat_minor": 5
}
