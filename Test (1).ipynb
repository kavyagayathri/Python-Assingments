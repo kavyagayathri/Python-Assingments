{
 "cells": [
  {
   "cell_type": "code",
   "execution_count": null,
   "id": "4d46a08b-ef07-4a3f-ac05-b7eb9b0b0788",
   "metadata": {},
   "outputs": [],
   "source": [
    "#What is the difference between a list, tuple, and set in Python?\n",
    "list:\n",
    "->it is mutable.\n",
    "->it is ordered.\n",
    "->duplicates allowed.\n",
    "->slicing and indexing is possible.\n",
    "tuple:\n",
    "->it is immutable.\n",
    "->it is ordered.\n",
    "->duplicates allowed.\n",
    "->slicing and indexing is possible.\n",
    "set:\n",
    "->it is mutable.\n",
    "->it is not ordered.\n",
    "->duplicates are not allowed.\n",
    "->slicing and indexing is not possible."
   ]
  },
  {
   "cell_type": "code",
   "execution_count": null,
   "id": "ea94c4c8-accb-49e1-ba14-831ea4a89324",
   "metadata": {},
   "outputs": [],
   "source": [
    "#how does Python manage memory? Explain the concept of garbage collection.\n",
    "Reference Counting: Deletes objects when no references exist.\n",
    "Garbage Collection: Cleans up unused memory (esp. cyclic references).\n",
    "Python’s garbage collector checks for objects with zero references.\n",
    "It also handles circular references (e.g., two objects referring to each other but not used)."
   ]
  },
  {
   "cell_type": "code",
   "execution_count": 35,
   "id": "35cf020f-e72d-474b-b16c-5faff2a9cc7a",
   "metadata": {},
   "outputs": [
    {
     "name": "stdout",
     "output_type": "stream",
     "text": [
      "10\n"
     ]
    }
   ],
   "source": [
    "# Write a function to find the second-largest number in a given list.\n",
    "def second_largest(lst):\n",
    "    if len(lst) < 2:\n",
    "        return None  \n",
    "    lst = list(set(lst))  \n",
    "    lst.sort(reverse=True)  \n",
    "    return lst[1]  \n",
    "print(second_largest([10, 20, 5, 8, 20])) "
   ]
  },
  {
   "cell_type": "code",
   "execution_count": null,
   "id": "3496efbe-e560-41ad-a1d9-d32fb02e67ba",
   "metadata": {},
   "outputs": [],
   "source": [
    "#Explain the difference between deepcopy() and copy() with an example.\n",
    "The outer object is the main structure (list, dict, set, etc.).\n",
    "Inner objects are nested elements inside the outer object.\n",
    "Shallow Copy (copy.copy()) → Copies only the outer object, inner objects remain shared.\n",
    "Deep Copy (copy.deepcopy()) → Copies everything recursively, making an independent copy."
   ]
  },
  {
   "cell_type": "code",
   "execution_count": 37,
   "id": "e9c635ea-ed0e-4cab-9d49-90e34811ab73",
   "metadata": {},
   "outputs": [
    {
     "name": "stdout",
     "output_type": "stream",
     "text": [
      "{'cherry': 20, 'date': 15, 'apple': 10, 'banana': 5}\n"
     ]
    }
   ],
   "source": [
    "#Given a dictionary, write a Python script to sort it by values in descending order.\n",
    "my_dict = {'apple': 10, 'banana': 5, 'cherry': 20, 'date': 15}\n",
    "sorted_dict = dict(sorted(my_dict.items(), key=lambda item: item[1], reverse=True))\n",
    "print(sorted_dict) "
   ]
  },
  {
   "cell_type": "code",
   "execution_count": null,
   "id": "804c63c0-8a4c-4bd2-a17a-1ee84b880ff9",
   "metadata": {},
   "outputs": [],
   "source": [
    "#How does Python handle exceptions internally? Write a custom exception class.\n",
    "Python searches for except blocks when an exception is raised.\n",
    "If no handler is found, Python terminates the program.\n",
    "We can define custom exceptions by inheriting from Exception.\n",
    "class Custom(Exception):\n",
    "    def __init__(self, m):\n",
    "        super().__init__(m) \n",
    "try:\n",
    "    raise Custom(\"Something went wrong!\") \n",
    "except Custom as e:\n",
    "    print(f\"Caught Custom Exception: {e}\")"
   ]
  },
  {
   "cell_type": "code",
   "execution_count": null,
   "id": "e06605a7-893e-40a3-95c8-b7d9974406fe",
   "metadata": {},
   "outputs": [],
   "source": [
    "#Define mean, median, and mode. When would you prefer the median over the mean?\n",
    "mean:\n",
    "->The sum of all values divided by number of values.\n",
    "median:\n",
    "->the middle value when data is sorted.\n",
    "mode:\n",
    "->most frequent.\n",
    "----\n",
    "when there are outliers median is preferred."
   ]
  },
  {
   "cell_type": "code",
   "execution_count": null,
   "id": "a050102a-132f-4ec4-828e-9403dd47e2f2",
   "metadata": {},
   "outputs": [],
   "source": [
    "#What are the advantages and disadvantages of using standard deviation versus interquartile range?\n",
    "Standard deviation:\n",
    "Advantages:\n",
    "->Best for normally distributed data (bell curve).\n",
    "->Uses all data points, giving a complete picture of variability.\n",
    "->Important in statistical models (e.g., z-scores, hypothesis testing).\n",
    "Disadvantages:\n",
    "->Sensitive to outliers – extreme values inflate SD.\n",
    "->Misleading for skewed distributions (e.g., income data).\n",
    "Interquartile range:\n",
    "Advantages:\n",
    "->Not affected by outliers → Ideal for skewed data.\n",
    "->Better for small datasets with uneven distributions.\n",
    "Disadvantages:\n",
    "->Ignores extreme values, which might be important in some cases.\n",
    "->Less useful for normally distributed data."
   ]
  },
  {
   "cell_type": "code",
   "execution_count": null,
   "id": "82808b2b-9689-4975-9a8a-a830a1d14c9f",
   "metadata": {},
   "outputs": [],
   "source": [
    "#Explain the difference between a population and a sample. Why do we use sampling?\n",
    "population:\n",
    "->the entire group being studied.\n",
    "->larger.\n",
    "->data collection is time consuming and expensive.\n",
    "sample:\n",
    "->a subset of the population.\n",
    "->smaller in size.\n",
    "->data collection faster and cost effective.\n",
    "-----------\n",
    "We use sampling because it's cheaper, faster, and practical while still providing accurate estimates."
   ]
  },
  {
   "cell_type": "code",
   "execution_count": null,
   "id": "0d00af85-db06-4dca-b34c-aac430407f0b",
   "metadata": {},
   "outputs": [],
   "source": [
    "#What is the difference between independent and mutually exclusive events? Provide examples.\n",
    "independent events:\n",
    "->events that donot affect each other.\n",
    "->both events can occur simultaneouslt.\n",
    "->Getting heads on the first toss & heads on the second toss.\n",
    "mutually exclusive events:\n",
    "->events that cannot occur together.\n",
    "->if one occurs the other cannot.\n",
    "->Getting heads and tails on the same toss."
   ]
  },
  {
   "cell_type": "code",
   "execution_count": null,
   "id": "80382f4a-8495-4538-a54b-9b801034b5b3",
   "metadata": {},
   "outputs": [],
   "source": [
    "#If a fair die is rolled twice, what is the probability of getting a sum of 7?\n",
    "->rolling two dice results in 36 possible outcomes.\n",
    "->there are 6 favourable outcomes.\n",
    "->probability is 1/6."
   ]
  },
  {
   "cell_type": "code",
   "execution_count": null,
   "id": "690399f0-79df-45cb-9613-475f6b2dea12",
   "metadata": {},
   "outputs": [],
   "source": [
    "#What is the p-value? How is it used in hypothesis testing?\n",
    "the p-value tells us the likelihood of obtaining the observed data if the null hypothesis is true.\n",
    "->null hypothesis(h0) and alternative hypothesis(ha).\n",
    "->choose significance value(alpha).\n",
    "->compute the p-value.\n",
    "->if p-value<=alpha(reject h0).\n",
    "->if p-value>alpha(accept h0)"
   ]
  },
  {
   "cell_type": "code",
   "execution_count": null,
   "id": "5ae6d325-59a0-43c2-90b1-c626f64a10cc",
   "metadata": {},
   "outputs": [],
   "source": [
    "# Explain Type I and Type II errors. Which is more serious in a medical test context?\n",
    "type 1 error:\n",
    "->reject h0 when it is actually true.\n",
    "->Detecting an effect that doesn't exist\n",
    "type 2 error:\n",
    "->Failing to reject h0 when it's actually false\n",
    "->missing a real effect.\n",
    "Type II error is more serious because missing a real disease can be life-threatening."
   ]
  },
  {
   "cell_type": "code",
   "execution_count": null,
   "id": "e7e5ee4e-cd1d-4dd0-8e7b-0d67f4b21ff8",
   "metadata": {},
   "outputs": [],
   "source": [
    "#A sample of 100 people has an average height of 170 cm with a standard deviation of 8 cm. Construct a 95% confidence interval for the population mean.\n",
    "->calculate standard error:SE=S/sqrt(n)=0.8\n",
    "->calculate margin error:ME=Z*SE=1.568\n",
    "->confidence interval:170+-1.568\n",
    "->(168.43,171.57)"
   ]
  },
  {
   "cell_type": "code",
   "execution_count": null,
   "id": "e0f5923e-efcb-43de-b5fc-fbc8915905b8",
   "metadata": {},
   "outputs": [],
   "source": [
    "#How do we handle the missing values.\n",
    "->remove missing values by dropping them.\n",
    "->fill with mean/median/mode/constant value/backward or forwarf filler.\n",
    "->predict missing values."
   ]
  },
  {
   "cell_type": "code",
   "execution_count": null,
   "id": "2aa51b54-2288-4017-93ed-a26e394929d0",
   "metadata": {},
   "outputs": [],
   "source": [
    "#How many sampling techniques are there.., explain them with an examples.\n",
    "there are two types of sampling techniques.\n",
    "1)probability sampling(More accurate & unbiased results)\n",
    "2)non probability sampling(Fster & practical but less representativeF)\n",
    "--------\n",
    "types in probability sampling:\n",
    "1)Simple Random Sampling:every individual has an equal chance of selection.\n",
    "ex:Selecting 50 students randomly from a school of 500 using a lottery.\n",
    "2)Systematic Sampling:Selecting every k-th individual from an ordered list.\n",
    "ex:Choosing every 10th customer from a supermarket entry list.\n",
    "3)Cluster Sampling:Population is divided into clusters, and entire clusters are selected randomly.\n",
    "ex:Selecting random classrooms in a school instead of individual students.\n",
    "--------------\n",
    "types of non population sampling:\n",
    "1)Convenience Sampling:Selecting samples easily available or nearby.\n",
    "ex:Surveying people in a mall instead of the whole city.\n",
    "2)Judgmental Sampling:Researcher selects participants based on expert judgment.\n",
    "ex:Selecting only experienced doctors for a medical study.\n",
    "3)Quota Sampling:Selecting a fixed number of samples per category without randomness.\n",
    "ex:Interviewing 50 men and 50 women for a gender study."
   ]
  },
  {
   "cell_type": "code",
   "execution_count": 39,
   "id": "31d327c0-a918-4b89-bcef-07c9519cf3b7",
   "metadata": {},
   "outputs": [
    {
     "name": "stdout",
     "output_type": "stream",
     "text": [
      "Hello,World!\n"
     ]
    }
   ],
   "source": [
    "print(\"Hello,World!\")"
   ]
  },
  {
   "cell_type": "code",
   "execution_count": 41,
   "id": "19b95452-f601-4b1c-bb0e-6dc4d4ed2716",
   "metadata": {},
   "outputs": [
    {
     "name": "stdout",
     "output_type": "stream",
     "text": [
      "1\n",
      "2\n",
      "Fizz\n",
      "4\n",
      "Buzz\n",
      "Fizz\n",
      "7\n",
      "8\n",
      "Fizz\n",
      "Buzz\n",
      "11\n",
      "Fizz\n",
      "13\n",
      "14\n",
      "FizzBuzz\n",
      "16\n",
      "17\n",
      "Fizz\n",
      "19\n",
      "Buzz\n",
      "Fizz\n",
      "22\n",
      "23\n",
      "Fizz\n",
      "Buzz\n",
      "26\n",
      "Fizz\n",
      "28\n",
      "29\n",
      "FizzBuzz\n",
      "31\n",
      "32\n",
      "Fizz\n",
      "34\n",
      "Buzz\n",
      "Fizz\n",
      "37\n",
      "38\n",
      "Fizz\n",
      "Buzz\n",
      "41\n",
      "Fizz\n",
      "43\n",
      "44\n",
      "FizzBuzz\n",
      "46\n",
      "47\n",
      "Fizz\n",
      "49\n",
      "Buzz\n"
     ]
    }
   ],
   "source": [
    "#Write a program that prints numbers from 1 to 50:If a number is divisible by 3, print \"Fizz\".If a number is divisible by 5, print \"Buzz\".If a number is divisible by both 3 and 5, print \"FizzBuzz\".\n",
    "for num in range(1, 51):\n",
    "    if num % 3 == 0 and num % 5 == 0:\n",
    "        print(\"FizzBuzz\")\n",
    "    elif num % 3 == 0:\n",
    "        print(\"Fizz\")\n",
    "    elif num % 5 == 0:\n",
    "        print(\"Buzz\")\n",
    "    else:\n",
    "        print(num)"
   ]
  },
  {
   "cell_type": "code",
   "execution_count": 45,
   "id": "92fc7e27-b7ce-44c3-bd35-052c3932c6d7",
   "metadata": {},
   "outputs": [
    {
     "name": "stdout",
     "output_type": "stream",
     "text": [
      "      Name  Age      City\n",
      "0    Alice   25  New York\n",
      "1      Bob   32     Paris\n",
      "2  Charlie   30    London\n"
     ]
    }
   ],
   "source": [
    "# Create a Pandas DataFrame from the following dictionary:\n",
    "import pandas as pd\n",
    "data = {\n",
    "    'Name': ['Alice', 'Bob', 'Charlie'],\n",
    "    'Age': [25, 32, 30],\n",
    "    'City': ['New York', 'Paris', 'London']\n",
    "}\n",
    "df = pd.DataFrame(data)\n",
    "print(df)"
   ]
  },
  {
   "cell_type": "code",
   "execution_count": 49,
   "id": "03a860c0-e2f6-49d7-8f19-7fc10588e594",
   "metadata": {},
   "outputs": [
    {
     "name": "stdout",
     "output_type": "stream",
     "text": [
      "      Name  Age\n",
      "0    Alice   25\n",
      "1      Bob   32\n",
      "2  Charlie   30\n"
     ]
    }
   ],
   "source": [
    "selected_columns = df[['Name', 'Age']]\n",
    "print(selected_columns)"
   ]
  },
  {
   "cell_type": "code",
   "execution_count": 51,
   "id": "4129e3a9-4054-4f2b-ac2d-0cea2755e56e",
   "metadata": {},
   "outputs": [
    {
     "name": "stdout",
     "output_type": "stream",
     "text": [
      "  Name  Age   City\n",
      "1  Bob   32  Paris\n"
     ]
    }
   ],
   "source": [
    "filtered_df = df[df['Age'] > 30]\n",
    "print(filtered_df)"
   ]
  },
  {
   "cell_type": "code",
   "execution_count": 53,
   "id": "f07169eb-a457-41cd-b52a-f9515fa52767",
   "metadata": {},
   "outputs": [
    {
     "name": "stdout",
     "output_type": "stream",
     "text": [
      "      Name  Age      City  Salary\n",
      "0    Alice   25  New York   50000\n",
      "1      Bob   32     Paris   60000\n",
      "2  Charlie   30    London   55000\n"
     ]
    }
   ],
   "source": [
    "df['Salary'] = [50000, 60000, 55000]\n",
    "print(df)"
   ]
  },
  {
   "cell_type": "code",
   "execution_count": 55,
   "id": "1c770a3c-f398-4569-8d81-c90a75204c57",
   "metadata": {},
   "outputs": [
    {
     "name": "stdout",
     "output_type": "stream",
     "text": [
      "   ID   Name  Score\n",
      "0   1  Alice     90\n",
      "1   2    Bob     85\n"
     ]
    }
   ],
   "source": [
    "df1 = pd.DataFrame({'ID': [1, 2, 3], 'Name': ['Alice', 'Bob', 'Charlie']})\n",
    "df2 = pd.DataFrame({'ID': [1, 2, 4], 'Score': [90, 85, 88]})\n",
    "merged_df = pd.merge(df1, df2, on=\"ID\", how=\"inner\")  \n",
    "print(merged_df)"
   ]
  },
  {
   "cell_type": "code",
   "execution_count": 57,
   "id": "f43c7109-2a83-490a-bbf1-209fce1ea1c0",
   "metadata": {},
   "outputs": [
    {
     "name": "stdout",
     "output_type": "stream",
     "text": [
      "      Name  Age      City\n",
      "0    Alice   23  New York\n",
      "1      Bob   35     Paris\n",
      "2  Charlie   30    London\n",
      "3    David   29    Berlin\n"
     ]
    }
   ],
   "source": [
    "names = ['Alice', 'Bob', 'Charlie', 'David']\n",
    "ages = [23, 35, 30, 29]\n",
    "cities = ['New York', 'Paris', 'London', 'Berlin']\n",
    "df = pd.DataFrame({'Name': names, 'Age': ages, 'City': cities})\n",
    "print(df)\n"
   ]
  },
  {
   "cell_type": "code",
   "execution_count": 61,
   "id": "363d9fb2-7711-4b07-a457-a44194981962",
   "metadata": {},
   "outputs": [
    {
     "name": "stdout",
     "output_type": "stream",
     "text": [
      "      Name  Age      City\n",
      "0    Alice   23  New York\n",
      "1      Bob   35     Paris\n",
      "2  Charlie   30    London\n",
      "      Name  Age    City\n",
      "2  Charlie   30  London\n",
      "3    David   29  Berlin\n"
     ]
    }
   ],
   "source": [
    "print(df.head(3))  \n",
    "print(df.tail(2))  "
   ]
  },
  {
   "cell_type": "code",
   "execution_count": 63,
   "id": "c270b16a-cc35-4e4f-bf53-c4a645aeea09",
   "metadata": {},
   "outputs": [
    {
     "name": "stdout",
     "output_type": "stream",
     "text": [
      "Mean: 29.25\n",
      "Median: 29.5\n",
      "Min: 23\n",
      "Max: 35\n"
     ]
    }
   ],
   "source": [
    "print(\"Mean:\", df['Age'].mean())\n",
    "print(\"Median:\", df['Age'].median())\n",
    "print(\"Min:\", df['Age'].min())\n",
    "print(\"Max:\", df['Age'].max())"
   ]
  },
  {
   "cell_type": "code",
   "execution_count": 65,
   "id": "37c629cc-3414-4085-83b7-518c8e780901",
   "metadata": {},
   "outputs": [
    {
     "name": "stdout",
     "output_type": "stream",
     "text": [
      "Name    Charlie\n",
      "Age          30\n",
      "City     London\n",
      "Name: 2, dtype: object\n"
     ]
    }
   ],
   "source": [
    "third_row = df.iloc[2]  \n",
    "print(third_row)"
   ]
  },
  {
   "cell_type": "code",
   "execution_count": 67,
   "id": "c3627d2f-859f-4653-82b0-b3d7c680f5a0",
   "metadata": {},
   "outputs": [
    {
     "name": "stdout",
     "output_type": "stream",
     "text": [
      "Empty DataFrame\n",
      "Columns: [Name, Age, City]\n",
      "Index: []\n"
     ]
    }
   ],
   "source": [
    "filtered_df = df[(df['Age'] > 30) & (df['City'] == 'London')]\n",
    "print(filtered_df)"
   ]
  },
  {
   "cell_type": "code",
   "execution_count": 69,
   "id": "f3954855-a2d3-4d4e-8609-2997c78f13bf",
   "metadata": {},
   "outputs": [
    {
     "name": "stdout",
     "output_type": "stream",
     "text": [
      "Month    Feb  Jan\n",
      "Product          \n",
      "A        220  200\n",
      "B        180  150\n"
     ]
    }
   ],
   "source": [
    "data = {\n",
    "    'Product': ['A', 'A', 'B', 'B'],\n",
    "    'Month': ['Jan', 'Feb', 'Jan', 'Feb'],\n",
    "    'Sales': [200, 220, 150, 180]\n",
    "}\n",
    "df = pd.DataFrame(data)\n",
    "pivot_df = df.pivot(index=\"Product\", columns=\"Month\", values=\"Sales\")\n",
    "print(pivot_df)"
   ]
  },
  {
   "cell_type": "code",
   "execution_count": 71,
   "id": "7f27020f-a958-470a-bdbb-3a61783d2000",
   "metadata": {},
   "outputs": [
    {
     "name": "stdout",
     "output_type": "stream",
     "text": [
      "Rows: 4, Columns: 3\n"
     ]
    }
   ],
   "source": [
    "rows, cols = df.shape\n"
   ]
  },
  {
   "cell_type": "code",
   "execution_count": null,
   "id": "bdb8f5cb-13c8-4a83-a2cd-0a6f86529799",
   "metadata": {},
   "outputs": [],
   "source": []
  }
 ],
 "metadata": {
  "kernelspec": {
   "display_name": "Python [conda env:base] *",
   "language": "python",
   "name": "conda-base-py"
  },
  "language_info": {
   "codemirror_mode": {
    "name": "ipython",
    "version": 3
   },
   "file_extension": ".py",
   "mimetype": "text/x-python",
   "name": "python",
   "nbconvert_exporter": "python",
   "pygments_lexer": "ipython3",
   "version": "3.12.7"
  }
 },
 "nbformat": 4,
 "nbformat_minor": 5
}
