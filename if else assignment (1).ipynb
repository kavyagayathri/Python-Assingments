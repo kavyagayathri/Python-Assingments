{
 "cells": [
  {
   "cell_type": "code",
   "execution_count": 3,
   "id": "3ce202cf",
   "metadata": {},
   "outputs": [
    {
     "name": "stdout",
     "output_type": "stream",
     "text": [
      "enter a number-99\n",
      "the number is negative\n"
     ]
    }
   ],
   "source": [
    "a=int(input(\"enter a number\"))\n",
    "if a==0:\n",
    "    print(\"the number is zero\")\n",
    "elif a>0:\n",
    "    print(\"the number is positive\")\n",
    "else:\n",
    "    print(\"the number is negative\")"
   ]
  },
  {
   "cell_type": "code",
   "execution_count": 5,
   "id": "04ccafaf",
   "metadata": {},
   "outputs": [
    {
     "name": "stdout",
     "output_type": "stream",
     "text": [
      "enter a number2025\n",
      "the year is not leap year\n"
     ]
    }
   ],
   "source": [
    "a=int(input(\"enter a number\"))\n",
    "if a%4==0:\n",
    "    print(\"the year is a leap year\")\n",
    "else:\n",
    "    print(\"the year is not leap year\")"
   ]
  },
  {
   "cell_type": "code",
   "execution_count": 1,
   "id": "3d3cc150",
   "metadata": {},
   "outputs": [
    {
     "name": "stdout",
     "output_type": "stream",
     "text": [
      "enter the number14\n",
      "you're not eligible to vote\n"
     ]
    }
   ],
   "source": [
    "a=int(input(\"enter the number\"))\n",
    "if a>=18:\n",
    "    print(\"you're eliglible to vote\")\n",
    "else:\n",
    "    print(\"you're not eligible to vote\")"
   ]
  },
  {
   "cell_type": "code",
   "execution_count": 6,
   "id": "1df99f47",
   "metadata": {},
   "outputs": [
    {
     "name": "stdout",
     "output_type": "stream",
     "text": [
      "enter the marks82\n",
      "C\n"
     ]
    }
   ],
   "source": [
    "a=int(input(\"enter the marks\"))\n",
    "if a>=90:\n",
    "    print(\"A\")\n",
    "if 75<=a>=89:\n",
    "    print(\"B\")\n",
    "if 50<=a>=74:\n",
    "    print(\"C\")\n",
    "if a<50:\n",
    "    print(\"F\")\n",
    "\n"
   ]
  },
  {
   "cell_type": "code",
   "execution_count": 8,
   "id": "bc4eb5df",
   "metadata": {},
   "outputs": [
    {
     "name": "stdout",
     "output_type": "stream",
     "text": [
      "enter the number5\n",
      "the number is odd\n"
     ]
    }
   ],
   "source": [
    "a=int(input(\"enter the number\"))\n",
    "if a%2==0:\n",
    "    print(\"the number is even\")\n",
    "else:\n",
    "    print(\"the number is odd\")"
   ]
  },
  {
   "cell_type": "code",
   "execution_count": 21,
   "id": "f1afea3c",
   "metadata": {},
   "outputs": [
    {
     "name": "stdout",
     "output_type": "stream",
     "text": [
      "enter the  1st number4\n",
      "enter the  2nd number3\n",
      "enter the  3rd number2\n",
      "a is greater\n"
     ]
    }
   ],
   "source": [
    "a=int(input(\"enter the  1st number\"))\n",
    "b=int(input(\"enter the  2nd number\"))\n",
    "c=int(input(\"enter the  3rd number\"))\n",
    "if a > b and a> c:\n",
    "    print(\"a is greater\")\n",
    "if b> a and b>c:\n",
    "    print(\"b is greater\")\n",
    "if c>a and c>b:\n",
    "    print(\"c is greater\")"
   ]
  },
  {
   "cell_type": "code",
   "execution_count": 3,
   "id": "e7f95e0e",
   "metadata": {},
   "outputs": [
    {
     "name": "stdout",
     "output_type": "stream",
     "text": [
      "enter the passwordKavya\n",
      "acess granted\n"
     ]
    }
   ],
   "source": [
    "a=input(\"enter the password----\")\n",
    "if a==\"Kavya\":\n",
    "    print(\"acess granted\")\n",
    "else:\n",
    "    print(\"acess denied\")"
   ]
  },
  {
   "cell_type": "code",
   "execution_count": 15,
   "id": "dc417518",
   "metadata": {},
   "outputs": [
    {
     "name": "stdout",
     "output_type": "stream",
     "text": [
      "enter the price100\n",
      "discount not applicable\n"
     ]
    }
   ],
   "source": [
    "price=int(input(\"enter the price\"))\n",
    "if price>1000:\n",
    "    discount=price*0.1\n",
    "    print(price-discount)\n",
    "else:\n",
    "    print(\"discount not applicable\")\n",
    "    "
   ]
  },
  {
   "cell_type": "code",
   "execution_count": 20,
   "id": "3debc3ac",
   "metadata": {},
   "outputs": [
    {
     "name": "stdout",
     "output_type": "stream",
     "text": [
      "enter the  1st side2\n",
      "enter the  2nd side3\n",
      "enter the  3rd side4\n",
      "it is a scalen triangle\n"
     ]
    }
   ],
   "source": [
    "a=int(input(\"enter the  1st side\"))\n",
    "b=int(input(\"enter the  2nd side\"))\n",
    "c=int(input(\"enter the  3rd side\"))\n",
    "if a==b==c:\n",
    "    print(\"it is a equilateral triangle\")\n",
    "if a==b!=c or a=!b==c:\n",
    "    print(\"it is a isoceles triangle\")\n",
    "if a!=b!=c:\n",
    "    print(\"it is a scalen triangle\")"
   ]
  },
  {
   "cell_type": "code",
   "execution_count": 23,
   "id": "e8fe2e3e",
   "metadata": {},
   "outputs": [
    {
     "name": "stdout",
     "output_type": "stream",
     "text": [
      "enter a number34\n",
      "number not divisible by 5 or 11\n"
     ]
    }
   ],
   "source": [
    "a=int(input(\"enter a number\"))\n",
    "if a%5==0 and a%11==0:\n",
    "    print(\"number divisible by 5 and 11\")\n",
    "else:\n",
    "    print(\"number not divisible by 5 or 11\")"
   ]
  },
  {
   "cell_type": "code",
   "execution_count": 26,
   "id": "58206d4a",
   "metadata": {},
   "outputs": [
    {
     "name": "stdout",
     "output_type": "stream",
     "text": [
      "enter the total classes200\n",
      "enter the attended classes120\n",
      "attendance not sufficient\n"
     ]
    }
   ],
   "source": [
    "t=int(input(\"enter the total classes\"))\n",
    "a=int(input(\"enter the attended classes\"))\n",
    "if (a/t>=0.75):\n",
    "    print(\"you are eligible for the exam\")\n",
    "else:\n",
    "    print(\"attendance not sufficient\")"
   ]
  },
  {
   "cell_type": "code",
   "execution_count": 5,
   "id": "7322b5ee",
   "metadata": {},
   "outputs": [
    {
     "name": "stdout",
     "output_type": "stream",
     "text": [
      "enter the temperature23\n",
      "The weather is pleasant.\n"
     ]
    }
   ],
   "source": [
    "temp=int(input(\"enter the temperature\"))\n",
    "if temp>30:\n",
    "    print(\"It's hot outside. Stay hydrated.\")\n",
    "if temp>=15 and temp<=30:\n",
    "    print(\"The weather is pleasant.\")\n",
    "if temp<15:\n",
    "    print(\"It's cold outside. Wear a jacket.\")"
   ]
  },
  {
   "cell_type": "code",
   "execution_count": 8,
   "id": "6af0b143",
   "metadata": {},
   "outputs": [
    {
     "name": "stdout",
     "output_type": "stream",
     "text": [
      "enter the number23\n",
      "the number within the range\n"
     ]
    }
   ],
   "source": [
    "a=int(input(\"enter the number\"))\n",
    "if a>=1 and a<=100:\n",
    "    print(\"the number within the range\")\n",
    "else:\n",
    "    print(\"the number out of range\")"
   ]
  },
  {
   "cell_type": "code",
   "execution_count": 16,
   "id": "a2165f2d",
   "metadata": {},
   "outputs": [
    {
     "name": "stdout",
     "output_type": "stream",
     "text": [
      "enter the number2\n",
      "enter the 2nd number4\n",
      "enter the symbol+\n",
      "6\n",
      "invalid symbol\n"
     ]
    }
   ],
   "source": [
    "a=int(input(\"enter the number\"))\n",
    "b=int(input(\"enter the 2nd number\"))\n",
    "s=input(\"enter the symbol\")\n",
    "if (s=='+'):\n",
    "    print(a+b)\n",
    "if (s == '-') :\n",
    "    print(a-b)\n",
    "if (s == '*') :\n",
    "    print(a*b)\n",
    "if (s=='/') :\n",
    "    print(a/b)\n",
    "\n",
    "else:\n",
    "    print(\"invalid symbol\")"
   ]
  },
  {
   "cell_type": "code",
   "execution_count": 17,
   "id": "bb5b4c61",
   "metadata": {},
   "outputs": [
    {
     "name": "stdout",
     "output_type": "stream",
     "text": [
      "enter the year2002\n",
      "the year is even\n"
     ]
    }
   ],
   "source": [
    "a=int(input(\"enter the year\"))\n",
    "if a%2==0:\n",
    "    print(\"the year is even\")\n",
    "if a%2!=0:\n",
    "    print(\"the year is odd\")"
   ]
  },
  {
   "cell_type": "code",
   "execution_count": null,
   "id": "282e886f",
   "metadata": {},
   "outputs": [],
   "source": []
  }
 ],
 "metadata": {
  "kernelspec": {
   "display_name": "Python 3 (ipykernel)",
   "language": "python",
   "name": "python3"
  },
  "language_info": {
   "codemirror_mode": {
    "name": "ipython",
    "version": 3
   },
   "file_extension": ".py",
   "mimetype": "text/x-python",
   "name": "python",
   "nbconvert_exporter": "python",
   "pygments_lexer": "ipython3",
   "version": "3.7.9"
  }
 },
 "nbformat": 4,
 "nbformat_minor": 5
}
